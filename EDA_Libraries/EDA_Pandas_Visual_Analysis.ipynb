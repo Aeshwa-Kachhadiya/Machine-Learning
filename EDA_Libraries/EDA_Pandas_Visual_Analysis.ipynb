{
 "cells": [
  {
   "cell_type": "code",
   "execution_count": 2,
   "id": "ffccf25d",
   "metadata": {},
   "outputs": [
    {
     "name": "stdout",
     "output_type": "stream",
     "text": [
      "Requirement already satisfied: pandas-visual-analysis in c:\\users\\aeswa\\anaconda3\\lib\\site-packages (0.0.4)\n",
      "Requirement already satisfied: setuptools>=49.2.0 in c:\\users\\aeswa\\anaconda3\\lib\\site-packages (from pandas-visual-analysis) (75.1.0)\n",
      "Requirement already satisfied: pandas>=1.1.0 in c:\\users\\aeswa\\anaconda3\\lib\\site-packages (from pandas-visual-analysis) (2.2.2)\n",
      "Requirement already satisfied: ipywidgets>=7.5.1 in c:\\users\\aeswa\\anaconda3\\lib\\site-packages (from pandas-visual-analysis) (7.8.1)\n",
      "Requirement already satisfied: numpy>=1.19.1 in c:\\users\\aeswa\\anaconda3\\lib\\site-packages (from pandas-visual-analysis) (1.26.4)\n",
      "Requirement already satisfied: plotly>=4.10.0 in c:\\users\\aeswa\\anaconda3\\lib\\site-packages (from pandas-visual-analysis) (5.24.1)\n",
      "Requirement already satisfied: blinker>=1.4 in c:\\users\\aeswa\\anaconda3\\lib\\site-packages (from pandas-visual-analysis) (1.6.2)\n",
      "Requirement already satisfied: comm>=0.1.3 in c:\\users\\aeswa\\anaconda3\\lib\\site-packages (from ipywidgets>=7.5.1->pandas-visual-analysis) (0.2.1)\n",
      "Requirement already satisfied: ipython-genutils~=0.2.0 in c:\\users\\aeswa\\anaconda3\\lib\\site-packages (from ipywidgets>=7.5.1->pandas-visual-analysis) (0.2.0)\n",
      "Requirement already satisfied: traitlets>=4.3.1 in c:\\users\\aeswa\\anaconda3\\lib\\site-packages (from ipywidgets>=7.5.1->pandas-visual-analysis) (5.14.3)\n",
      "Requirement already satisfied: widgetsnbextension~=3.6.6 in c:\\users\\aeswa\\anaconda3\\lib\\site-packages (from ipywidgets>=7.5.1->pandas-visual-analysis) (3.6.6)\n",
      "Requirement already satisfied: ipython>=4.0.0 in c:\\users\\aeswa\\anaconda3\\lib\\site-packages (from ipywidgets>=7.5.1->pandas-visual-analysis) (8.27.0)\n",
      "Requirement already satisfied: jupyterlab-widgets<3,>=1.0.0 in c:\\users\\aeswa\\anaconda3\\lib\\site-packages (from ipywidgets>=7.5.1->pandas-visual-analysis) (1.0.0)\n",
      "Requirement already satisfied: python-dateutil>=2.8.2 in c:\\users\\aeswa\\anaconda3\\lib\\site-packages (from pandas>=1.1.0->pandas-visual-analysis) (2.9.0.post0)\n",
      "Requirement already satisfied: pytz>=2020.1 in c:\\users\\aeswa\\anaconda3\\lib\\site-packages (from pandas>=1.1.0->pandas-visual-analysis) (2024.1)\n",
      "Requirement already satisfied: tzdata>=2022.7 in c:\\users\\aeswa\\anaconda3\\lib\\site-packages (from pandas>=1.1.0->pandas-visual-analysis) (2023.3)\n",
      "Requirement already satisfied: tenacity>=6.2.0 in c:\\users\\aeswa\\anaconda3\\lib\\site-packages (from plotly>=4.10.0->pandas-visual-analysis) (8.2.3)\n",
      "Requirement already satisfied: packaging in c:\\users\\aeswa\\anaconda3\\lib\\site-packages (from plotly>=4.10.0->pandas-visual-analysis) (24.1)\n",
      "Requirement already satisfied: decorator in c:\\users\\aeswa\\anaconda3\\lib\\site-packages (from ipython>=4.0.0->ipywidgets>=7.5.1->pandas-visual-analysis) (5.1.1)\n",
      "Requirement already satisfied: jedi>=0.16 in c:\\users\\aeswa\\anaconda3\\lib\\site-packages (from ipython>=4.0.0->ipywidgets>=7.5.1->pandas-visual-analysis) (0.19.1)\n",
      "Requirement already satisfied: matplotlib-inline in c:\\users\\aeswa\\anaconda3\\lib\\site-packages (from ipython>=4.0.0->ipywidgets>=7.5.1->pandas-visual-analysis) (0.1.6)\n",
      "Requirement already satisfied: prompt-toolkit<3.1.0,>=3.0.41 in c:\\users\\aeswa\\anaconda3\\lib\\site-packages (from ipython>=4.0.0->ipywidgets>=7.5.1->pandas-visual-analysis) (3.0.43)\n",
      "Requirement already satisfied: pygments>=2.4.0 in c:\\users\\aeswa\\anaconda3\\lib\\site-packages (from ipython>=4.0.0->ipywidgets>=7.5.1->pandas-visual-analysis) (2.15.1)\n",
      "Requirement already satisfied: stack-data in c:\\users\\aeswa\\anaconda3\\lib\\site-packages (from ipython>=4.0.0->ipywidgets>=7.5.1->pandas-visual-analysis) (0.2.0)\n",
      "Requirement already satisfied: colorama in c:\\users\\aeswa\\anaconda3\\lib\\site-packages (from ipython>=4.0.0->ipywidgets>=7.5.1->pandas-visual-analysis) (0.4.6)\n",
      "Requirement already satisfied: six>=1.5 in c:\\users\\aeswa\\anaconda3\\lib\\site-packages (from python-dateutil>=2.8.2->pandas>=1.1.0->pandas-visual-analysis) (1.16.0)\n",
      "Requirement already satisfied: notebook>=4.4.1 in c:\\users\\aeswa\\anaconda3\\lib\\site-packages (from widgetsnbextension~=3.6.6->ipywidgets>=7.5.1->pandas-visual-analysis) (6.5.7)\n",
      "Requirement already satisfied: parso<0.9.0,>=0.8.3 in c:\\users\\aeswa\\anaconda3\\lib\\site-packages (from jedi>=0.16->ipython>=4.0.0->ipywidgets>=7.5.1->pandas-visual-analysis) (0.8.3)\n",
      "Requirement already satisfied: jinja2 in c:\\users\\aeswa\\anaconda3\\lib\\site-packages (from notebook>=4.4.1->widgetsnbextension~=3.6.6->ipywidgets>=7.5.1->pandas-visual-analysis) (3.1.4)\n",
      "Requirement already satisfied: tornado>=6.1 in c:\\users\\aeswa\\anaconda3\\lib\\site-packages (from notebook>=4.4.1->widgetsnbextension~=3.6.6->ipywidgets>=7.5.1->pandas-visual-analysis) (6.4.1)\n",
      "Requirement already satisfied: pyzmq>=17 in c:\\users\\aeswa\\anaconda3\\lib\\site-packages (from notebook>=4.4.1->widgetsnbextension~=3.6.6->ipywidgets>=7.5.1->pandas-visual-analysis) (25.1.2)\n",
      "Requirement already satisfied: argon2-cffi in c:\\users\\aeswa\\anaconda3\\lib\\site-packages (from notebook>=4.4.1->widgetsnbextension~=3.6.6->ipywidgets>=7.5.1->pandas-visual-analysis) (21.3.0)\n",
      "Requirement already satisfied: jupyter-core>=4.6.1 in c:\\users\\aeswa\\anaconda3\\lib\\site-packages (from notebook>=4.4.1->widgetsnbextension~=3.6.6->ipywidgets>=7.5.1->pandas-visual-analysis) (5.7.2)\n",
      "Requirement already satisfied: jupyter-client<8,>=5.3.4 in c:\\users\\aeswa\\anaconda3\\lib\\site-packages (from notebook>=4.4.1->widgetsnbextension~=3.6.6->ipywidgets>=7.5.1->pandas-visual-analysis) (7.4.9)\n",
      "Requirement already satisfied: nbformat in c:\\users\\aeswa\\anaconda3\\lib\\site-packages (from notebook>=4.4.1->widgetsnbextension~=3.6.6->ipywidgets>=7.5.1->pandas-visual-analysis) (5.10.4)\n",
      "Requirement already satisfied: nbconvert>=5 in c:\\users\\aeswa\\anaconda3\\lib\\site-packages (from notebook>=4.4.1->widgetsnbextension~=3.6.6->ipywidgets>=7.5.1->pandas-visual-analysis) (7.16.4)\n",
      "Requirement already satisfied: nest-asyncio>=1.5 in c:\\users\\aeswa\\anaconda3\\lib\\site-packages (from notebook>=4.4.1->widgetsnbextension~=3.6.6->ipywidgets>=7.5.1->pandas-visual-analysis) (1.6.0)\n",
      "Requirement already satisfied: ipykernel in c:\\users\\aeswa\\anaconda3\\lib\\site-packages (from notebook>=4.4.1->widgetsnbextension~=3.6.6->ipywidgets>=7.5.1->pandas-visual-analysis) (6.28.0)\n",
      "Requirement already satisfied: Send2Trash>=1.8.0 in c:\\users\\aeswa\\anaconda3\\lib\\site-packages (from notebook>=4.4.1->widgetsnbextension~=3.6.6->ipywidgets>=7.5.1->pandas-visual-analysis) (1.8.2)\n",
      "Requirement already satisfied: terminado>=0.8.3 in c:\\users\\aeswa\\anaconda3\\lib\\site-packages (from notebook>=4.4.1->widgetsnbextension~=3.6.6->ipywidgets>=7.5.1->pandas-visual-analysis) (0.17.1)\n",
      "Requirement already satisfied: prometheus-client in c:\\users\\aeswa\\anaconda3\\lib\\site-packages (from notebook>=4.4.1->widgetsnbextension~=3.6.6->ipywidgets>=7.5.1->pandas-visual-analysis) (0.14.1)\n",
      "Requirement already satisfied: nbclassic>=0.4.7 in c:\\users\\aeswa\\anaconda3\\lib\\site-packages (from notebook>=4.4.1->widgetsnbextension~=3.6.6->ipywidgets>=7.5.1->pandas-visual-analysis) (1.3.1)\n",
      "Requirement already satisfied: wcwidth in c:\\users\\aeswa\\anaconda3\\lib\\site-packages (from prompt-toolkit<3.1.0,>=3.0.41->ipython>=4.0.0->ipywidgets>=7.5.1->pandas-visual-analysis) (0.2.5)\n",
      "Requirement already satisfied: executing in c:\\users\\aeswa\\anaconda3\\lib\\site-packages (from stack-data->ipython>=4.0.0->ipywidgets>=7.5.1->pandas-visual-analysis) (0.8.3)\n",
      "Requirement already satisfied: asttokens in c:\\users\\aeswa\\anaconda3\\lib\\site-packages (from stack-data->ipython>=4.0.0->ipywidgets>=7.5.1->pandas-visual-analysis) (2.0.5)\n",
      "Requirement already satisfied: pure-eval in c:\\users\\aeswa\\anaconda3\\lib\\site-packages (from stack-data->ipython>=4.0.0->ipywidgets>=7.5.1->pandas-visual-analysis) (0.2.2)\n",
      "Requirement already satisfied: entrypoints in c:\\users\\aeswa\\anaconda3\\lib\\site-packages (from jupyter-client<8,>=5.3.4->notebook>=4.4.1->widgetsnbextension~=3.6.6->ipywidgets>=7.5.1->pandas-visual-analysis) (0.4)\n",
      "Requirement already satisfied: platformdirs>=2.5 in c:\\users\\aeswa\\anaconda3\\lib\\site-packages (from jupyter-core>=4.6.1->notebook>=4.4.1->widgetsnbextension~=3.6.6->ipywidgets>=7.5.1->pandas-visual-analysis) (3.10.0)\n",
      "Requirement already satisfied: pywin32>=300 in c:\\users\\aeswa\\anaconda3\\lib\\site-packages (from jupyter-core>=4.6.1->notebook>=4.4.1->widgetsnbextension~=3.6.6->ipywidgets>=7.5.1->pandas-visual-analysis) (305.1)\n",
      "Requirement already satisfied: notebook-shim>=0.2.3 in c:\\users\\aeswa\\anaconda3\\lib\\site-packages (from nbclassic>=0.4.7->notebook>=4.4.1->widgetsnbextension~=3.6.6->ipywidgets>=7.5.1->pandas-visual-analysis) (0.2.3)\n",
      "Requirement already satisfied: beautifulsoup4 in c:\\users\\aeswa\\anaconda3\\lib\\site-packages (from nbconvert>=5->notebook>=4.4.1->widgetsnbextension~=3.6.6->ipywidgets>=7.5.1->pandas-visual-analysis) (4.12.3)\n",
      "Requirement already satisfied: bleach!=5.0.0 in c:\\users\\aeswa\\anaconda3\\lib\\site-packages (from nbconvert>=5->notebook>=4.4.1->widgetsnbextension~=3.6.6->ipywidgets>=7.5.1->pandas-visual-analysis) (4.1.0)\n",
      "Requirement already satisfied: defusedxml in c:\\users\\aeswa\\anaconda3\\lib\\site-packages (from nbconvert>=5->notebook>=4.4.1->widgetsnbextension~=3.6.6->ipywidgets>=7.5.1->pandas-visual-analysis) (0.7.1)\n",
      "Requirement already satisfied: jupyterlab-pygments in c:\\users\\aeswa\\anaconda3\\lib\\site-packages (from nbconvert>=5->notebook>=4.4.1->widgetsnbextension~=3.6.6->ipywidgets>=7.5.1->pandas-visual-analysis) (0.1.2)\n",
      "Requirement already satisfied: markupsafe>=2.0 in c:\\users\\aeswa\\anaconda3\\lib\\site-packages (from nbconvert>=5->notebook>=4.4.1->widgetsnbextension~=3.6.6->ipywidgets>=7.5.1->pandas-visual-analysis) (2.1.3)\n",
      "Requirement already satisfied: mistune<4,>=2.0.3 in c:\\users\\aeswa\\anaconda3\\lib\\site-packages (from nbconvert>=5->notebook>=4.4.1->widgetsnbextension~=3.6.6->ipywidgets>=7.5.1->pandas-visual-analysis) (2.0.4)\n",
      "Requirement already satisfied: nbclient>=0.5.0 in c:\\users\\aeswa\\anaconda3\\lib\\site-packages (from nbconvert>=5->notebook>=4.4.1->widgetsnbextension~=3.6.6->ipywidgets>=7.5.1->pandas-visual-analysis) (0.8.0)\n",
      "Requirement already satisfied: pandocfilters>=1.4.1 in c:\\users\\aeswa\\anaconda3\\lib\\site-packages (from nbconvert>=5->notebook>=4.4.1->widgetsnbextension~=3.6.6->ipywidgets>=7.5.1->pandas-visual-analysis) (1.5.0)\n",
      "Requirement already satisfied: tinycss2 in c:\\users\\aeswa\\anaconda3\\lib\\site-packages (from nbconvert>=5->notebook>=4.4.1->widgetsnbextension~=3.6.6->ipywidgets>=7.5.1->pandas-visual-analysis) (1.2.1)\n",
      "Requirement already satisfied: fastjsonschema>=2.15 in c:\\users\\aeswa\\anaconda3\\lib\\site-packages (from nbformat->notebook>=4.4.1->widgetsnbextension~=3.6.6->ipywidgets>=7.5.1->pandas-visual-analysis) (2.16.2)\n",
      "Requirement already satisfied: jsonschema>=2.6 in c:\\users\\aeswa\\anaconda3\\lib\\site-packages (from nbformat->notebook>=4.4.1->widgetsnbextension~=3.6.6->ipywidgets>=7.5.1->pandas-visual-analysis) (4.23.0)\n",
      "Requirement already satisfied: pywinpty>=1.1.0 in c:\\users\\aeswa\\anaconda3\\lib\\site-packages (from terminado>=0.8.3->notebook>=4.4.1->widgetsnbextension~=3.6.6->ipywidgets>=7.5.1->pandas-visual-analysis) (2.0.10)\n",
      "Requirement already satisfied: argon2-cffi-bindings in c:\\users\\aeswa\\anaconda3\\lib\\site-packages (from argon2-cffi->notebook>=4.4.1->widgetsnbextension~=3.6.6->ipywidgets>=7.5.1->pandas-visual-analysis) (21.2.0)\n",
      "Requirement already satisfied: debugpy>=1.6.5 in c:\\users\\aeswa\\anaconda3\\lib\\site-packages (from ipykernel->notebook>=4.4.1->widgetsnbextension~=3.6.6->ipywidgets>=7.5.1->pandas-visual-analysis) (1.6.7)\n",
      "Requirement already satisfied: psutil in c:\\users\\aeswa\\anaconda3\\lib\\site-packages (from ipykernel->notebook>=4.4.1->widgetsnbextension~=3.6.6->ipywidgets>=7.5.1->pandas-visual-analysis) (5.9.0)\n",
      "Requirement already satisfied: webencodings in c:\\users\\aeswa\\anaconda3\\lib\\site-packages (from bleach!=5.0.0->nbconvert>=5->notebook>=4.4.1->widgetsnbextension~=3.6.6->ipywidgets>=7.5.1->pandas-visual-analysis) (0.5.1)\n",
      "Requirement already satisfied: attrs>=22.2.0 in c:\\users\\aeswa\\anaconda3\\lib\\site-packages (from jsonschema>=2.6->nbformat->notebook>=4.4.1->widgetsnbextension~=3.6.6->ipywidgets>=7.5.1->pandas-visual-analysis) (23.1.0)\n",
      "Requirement already satisfied: jsonschema-specifications>=2023.03.6 in c:\\users\\aeswa\\anaconda3\\lib\\site-packages (from jsonschema>=2.6->nbformat->notebook>=4.4.1->widgetsnbextension~=3.6.6->ipywidgets>=7.5.1->pandas-visual-analysis) (2023.7.1)\n",
      "Requirement already satisfied: referencing>=0.28.4 in c:\\users\\aeswa\\anaconda3\\lib\\site-packages (from jsonschema>=2.6->nbformat->notebook>=4.4.1->widgetsnbextension~=3.6.6->ipywidgets>=7.5.1->pandas-visual-analysis) (0.30.2)\n",
      "Requirement already satisfied: rpds-py>=0.7.1 in c:\\users\\aeswa\\anaconda3\\lib\\site-packages (from jsonschema>=2.6->nbformat->notebook>=4.4.1->widgetsnbextension~=3.6.6->ipywidgets>=7.5.1->pandas-visual-analysis) (0.10.6)\n",
      "Requirement already satisfied: jupyter-server<3,>=1.8 in c:\\users\\aeswa\\anaconda3\\lib\\site-packages (from notebook-shim>=0.2.3->nbclassic>=0.4.7->notebook>=4.4.1->widgetsnbextension~=3.6.6->ipywidgets>=7.5.1->pandas-visual-analysis) (2.14.1)\n",
      "Requirement already satisfied: cffi>=1.0.1 in c:\\users\\aeswa\\anaconda3\\lib\\site-packages (from argon2-cffi-bindings->argon2-cffi->notebook>=4.4.1->widgetsnbextension~=3.6.6->ipywidgets>=7.5.1->pandas-visual-analysis) (1.17.1)\n",
      "Requirement already satisfied: soupsieve>1.2 in c:\\users\\aeswa\\anaconda3\\lib\\site-packages (from beautifulsoup4->nbconvert>=5->notebook>=4.4.1->widgetsnbextension~=3.6.6->ipywidgets>=7.5.1->pandas-visual-analysis) (2.5)\n",
      "Requirement already satisfied: pycparser in c:\\users\\aeswa\\anaconda3\\lib\\site-packages (from cffi>=1.0.1->argon2-cffi-bindings->argon2-cffi->notebook>=4.4.1->widgetsnbextension~=3.6.6->ipywidgets>=7.5.1->pandas-visual-analysis) (2.21)\n",
      "Requirement already satisfied: anyio>=3.1.0 in c:\\users\\aeswa\\anaconda3\\lib\\site-packages (from jupyter-server<3,>=1.8->notebook-shim>=0.2.3->nbclassic>=0.4.7->notebook>=4.4.1->widgetsnbextension~=3.6.6->ipywidgets>=7.5.1->pandas-visual-analysis) (4.2.0)\n",
      "Requirement already satisfied: jupyter-events>=0.9.0 in c:\\users\\aeswa\\anaconda3\\lib\\site-packages (from jupyter-server<3,>=1.8->notebook-shim>=0.2.3->nbclassic>=0.4.7->notebook>=4.4.1->widgetsnbextension~=3.6.6->ipywidgets>=7.5.1->pandas-visual-analysis) (0.10.0)\n",
      "Requirement already satisfied: jupyter-server-terminals>=0.4.4 in c:\\users\\aeswa\\anaconda3\\lib\\site-packages (from jupyter-server<3,>=1.8->notebook-shim>=0.2.3->nbclassic>=0.4.7->notebook>=4.4.1->widgetsnbextension~=3.6.6->ipywidgets>=7.5.1->pandas-visual-analysis) (0.4.4)\n",
      "Requirement already satisfied: overrides>=5.0 in c:\\users\\aeswa\\anaconda3\\lib\\site-packages (from jupyter-server<3,>=1.8->notebook-shim>=0.2.3->nbclassic>=0.4.7->notebook>=4.4.1->widgetsnbextension~=3.6.6->ipywidgets>=7.5.1->pandas-visual-analysis) (7.4.0)\n",
      "Requirement already satisfied: websocket-client>=1.7 in c:\\users\\aeswa\\anaconda3\\lib\\site-packages (from jupyter-server<3,>=1.8->notebook-shim>=0.2.3->nbclassic>=0.4.7->notebook>=4.4.1->widgetsnbextension~=3.6.6->ipywidgets>=7.5.1->pandas-visual-analysis) (1.8.0)\n",
      "Requirement already satisfied: idna>=2.8 in c:\\users\\aeswa\\anaconda3\\lib\\site-packages (from anyio>=3.1.0->jupyter-server<3,>=1.8->notebook-shim>=0.2.3->nbclassic>=0.4.7->notebook>=4.4.1->widgetsnbextension~=3.6.6->ipywidgets>=7.5.1->pandas-visual-analysis) (3.7)\n",
      "Requirement already satisfied: sniffio>=1.1 in c:\\users\\aeswa\\anaconda3\\lib\\site-packages (from anyio>=3.1.0->jupyter-server<3,>=1.8->notebook-shim>=0.2.3->nbclassic>=0.4.7->notebook>=4.4.1->widgetsnbextension~=3.6.6->ipywidgets>=7.5.1->pandas-visual-analysis) (1.3.0)\n",
      "Requirement already satisfied: python-json-logger>=2.0.4 in c:\\users\\aeswa\\anaconda3\\lib\\site-packages (from jupyter-events>=0.9.0->jupyter-server<3,>=1.8->notebook-shim>=0.2.3->nbclassic>=0.4.7->notebook>=4.4.1->widgetsnbextension~=3.6.6->ipywidgets>=7.5.1->pandas-visual-analysis) (2.0.7)\n",
      "Requirement already satisfied: pyyaml>=5.3 in c:\\users\\aeswa\\anaconda3\\lib\\site-packages (from jupyter-events>=0.9.0->jupyter-server<3,>=1.8->notebook-shim>=0.2.3->nbclassic>=0.4.7->notebook>=4.4.1->widgetsnbextension~=3.6.6->ipywidgets>=7.5.1->pandas-visual-analysis) (6.0.1)\n",
      "Requirement already satisfied: rfc3339-validator in c:\\users\\aeswa\\anaconda3\\lib\\site-packages (from jupyter-events>=0.9.0->jupyter-server<3,>=1.8->notebook-shim>=0.2.3->nbclassic>=0.4.7->notebook>=4.4.1->widgetsnbextension~=3.6.6->ipywidgets>=7.5.1->pandas-visual-analysis) (0.1.4)\n",
      "Requirement already satisfied: rfc3986-validator>=0.1.1 in c:\\users\\aeswa\\anaconda3\\lib\\site-packages (from jupyter-events>=0.9.0->jupyter-server<3,>=1.8->notebook-shim>=0.2.3->nbclassic>=0.4.7->notebook>=4.4.1->widgetsnbextension~=3.6.6->ipywidgets>=7.5.1->pandas-visual-analysis) (0.1.1)\n",
      "Requirement already satisfied: fqdn in c:\\users\\aeswa\\anaconda3\\lib\\site-packages (from jsonschema[format-nongpl]>=4.18.0->jupyter-events>=0.9.0->jupyter-server<3,>=1.8->notebook-shim>=0.2.3->nbclassic>=0.4.7->notebook>=4.4.1->widgetsnbextension~=3.6.6->ipywidgets>=7.5.1->pandas-visual-analysis) (1.5.1)\n",
      "Requirement already satisfied: isoduration in c:\\users\\aeswa\\anaconda3\\lib\\site-packages (from jsonschema[format-nongpl]>=4.18.0->jupyter-events>=0.9.0->jupyter-server<3,>=1.8->notebook-shim>=0.2.3->nbclassic>=0.4.7->notebook>=4.4.1->widgetsnbextension~=3.6.6->ipywidgets>=7.5.1->pandas-visual-analysis) (20.11.0)\n",
      "Requirement already satisfied: jsonpointer>1.13 in c:\\users\\aeswa\\anaconda3\\lib\\site-packages (from jsonschema[format-nongpl]>=4.18.0->jupyter-events>=0.9.0->jupyter-server<3,>=1.8->notebook-shim>=0.2.3->nbclassic>=0.4.7->notebook>=4.4.1->widgetsnbextension~=3.6.6->ipywidgets>=7.5.1->pandas-visual-analysis) (2.1)\n",
      "Requirement already satisfied: uri-template in c:\\users\\aeswa\\anaconda3\\lib\\site-packages (from jsonschema[format-nongpl]>=4.18.0->jupyter-events>=0.9.0->jupyter-server<3,>=1.8->notebook-shim>=0.2.3->nbclassic>=0.4.7->notebook>=4.4.1->widgetsnbextension~=3.6.6->ipywidgets>=7.5.1->pandas-visual-analysis) (1.3.0)\n",
      "Requirement already satisfied: webcolors>=24.6.0 in c:\\users\\aeswa\\anaconda3\\lib\\site-packages (from jsonschema[format-nongpl]>=4.18.0->jupyter-events>=0.9.0->jupyter-server<3,>=1.8->notebook-shim>=0.2.3->nbclassic>=0.4.7->notebook>=4.4.1->widgetsnbextension~=3.6.6->ipywidgets>=7.5.1->pandas-visual-analysis) (24.11.1)\n",
      "Requirement already satisfied: arrow>=0.15.0 in c:\\users\\aeswa\\anaconda3\\lib\\site-packages (from isoduration->jsonschema[format-nongpl]>=4.18.0->jupyter-events>=0.9.0->jupyter-server<3,>=1.8->notebook-shim>=0.2.3->nbclassic>=0.4.7->notebook>=4.4.1->widgetsnbextension~=3.6.6->ipywidgets>=7.5.1->pandas-visual-analysis) (1.2.3)\n"
     ]
    }
   ],
   "source": [
    "!pip install pandas-visual-analysis"
   ]
  },
  {
   "cell_type": "markdown",
   "id": "17dcfc32",
   "metadata": {},
   "source": [
    "## This is not works well with complex dataset and which has too many features."
   ]
  },
  {
   "cell_type": "code",
   "execution_count": 1,
   "id": "036d1dab",
   "metadata": {},
   "outputs": [],
   "source": [
    "import seaborn as sns"
   ]
  },
  {
   "cell_type": "code",
   "execution_count": 2,
   "id": "26cc116d",
   "metadata": {},
   "outputs": [
    {
     "name": "stdout",
     "output_type": "stream",
     "text": [
      "['anagrams', 'anscombe', 'attention', 'brain_networks', 'car_crashes', 'diamonds', 'dots', 'dowjones', 'exercise', 'flights', 'fmri', 'geyser', 'glue', 'healthexp', 'iris', 'mpg', 'penguins', 'planets', 'seaice', 'taxis', 'tips', 'titanic']\n"
     ]
    }
   ],
   "source": [
    "print(sns.get_dataset_names())"
   ]
  },
  {
   "cell_type": "code",
   "execution_count": 2,
   "id": "9a8e9ea4",
   "metadata": {},
   "outputs": [],
   "source": [
    "df=sns.load_dataset(\"iris\")"
   ]
  },
  {
   "cell_type": "code",
   "execution_count": 3,
   "id": "d35837f7",
   "metadata": {},
   "outputs": [
    {
     "data": {
      "text/html": [
       "<div>\n",
       "<style scoped>\n",
       "    .dataframe tbody tr th:only-of-type {\n",
       "        vertical-align: middle;\n",
       "    }\n",
       "\n",
       "    .dataframe tbody tr th {\n",
       "        vertical-align: top;\n",
       "    }\n",
       "\n",
       "    .dataframe thead th {\n",
       "        text-align: right;\n",
       "    }\n",
       "</style>\n",
       "<table border=\"1\" class=\"dataframe\">\n",
       "  <thead>\n",
       "    <tr style=\"text-align: right;\">\n",
       "      <th></th>\n",
       "      <th>sepal_length</th>\n",
       "      <th>sepal_width</th>\n",
       "      <th>petal_length</th>\n",
       "      <th>petal_width</th>\n",
       "      <th>species</th>\n",
       "    </tr>\n",
       "  </thead>\n",
       "  <tbody>\n",
       "    <tr>\n",
       "      <th>0</th>\n",
       "      <td>5.1</td>\n",
       "      <td>3.5</td>\n",
       "      <td>1.4</td>\n",
       "      <td>0.2</td>\n",
       "      <td>setosa</td>\n",
       "    </tr>\n",
       "    <tr>\n",
       "      <th>1</th>\n",
       "      <td>4.9</td>\n",
       "      <td>3.0</td>\n",
       "      <td>1.4</td>\n",
       "      <td>0.2</td>\n",
       "      <td>setosa</td>\n",
       "    </tr>\n",
       "    <tr>\n",
       "      <th>2</th>\n",
       "      <td>4.7</td>\n",
       "      <td>3.2</td>\n",
       "      <td>1.3</td>\n",
       "      <td>0.2</td>\n",
       "      <td>setosa</td>\n",
       "    </tr>\n",
       "    <tr>\n",
       "      <th>3</th>\n",
       "      <td>4.6</td>\n",
       "      <td>3.1</td>\n",
       "      <td>1.5</td>\n",
       "      <td>0.2</td>\n",
       "      <td>setosa</td>\n",
       "    </tr>\n",
       "    <tr>\n",
       "      <th>4</th>\n",
       "      <td>5.0</td>\n",
       "      <td>3.6</td>\n",
       "      <td>1.4</td>\n",
       "      <td>0.2</td>\n",
       "      <td>setosa</td>\n",
       "    </tr>\n",
       "  </tbody>\n",
       "</table>\n",
       "</div>"
      ],
      "text/plain": [
       "   sepal_length  sepal_width  petal_length  petal_width species\n",
       "0           5.1          3.5           1.4          0.2  setosa\n",
       "1           4.9          3.0           1.4          0.2  setosa\n",
       "2           4.7          3.2           1.3          0.2  setosa\n",
       "3           4.6          3.1           1.5          0.2  setosa\n",
       "4           5.0          3.6           1.4          0.2  setosa"
      ]
     },
     "execution_count": 3,
     "metadata": {},
     "output_type": "execute_result"
    }
   ],
   "source": [
    "df.head()"
   ]
  },
  {
   "cell_type": "code",
   "execution_count": 4,
   "id": "5edde8de",
   "metadata": {},
   "outputs": [],
   "source": [
    "from pandas_visual_analysis import VisualAnalysis"
   ]
  },
  {
   "cell_type": "code",
   "execution_count": 5,
   "id": "d9a151e3",
   "metadata": {},
   "outputs": [
    {
     "data": {
      "application/vnd.jupyter.widget-view+json": {
       "model_id": "4ba23323f27849ad96ed780f2e4ac6f6",
       "version_major": 2,
       "version_minor": 0
      },
      "text/plain": [
       "VBox(children=(ToggleButtons(_dom_classes=('layout-3cbae3fbe0b04a96bf4aa436e942e384',), description='Selection…"
      ]
     },
     "metadata": {},
     "output_type": "display_data"
    }
   ],
   "source": [
    "VisualAnalysis(df)"
   ]
  },
  {
   "cell_type": "markdown",
   "id": "e36c5a5a",
   "metadata": {},
   "source": [
    "## This dataset has categorical features."
   ]
  },
  {
   "cell_type": "code",
   "execution_count": 6,
   "id": "19796dcb",
   "metadata": {},
   "outputs": [],
   "source": [
    "df=sns.load_dataset(\"titanic\")"
   ]
  },
  {
   "cell_type": "code",
   "execution_count": 7,
   "id": "7eaaf43a",
   "metadata": {},
   "outputs": [
    {
     "data": {
      "text/html": [
       "<div>\n",
       "<style scoped>\n",
       "    .dataframe tbody tr th:only-of-type {\n",
       "        vertical-align: middle;\n",
       "    }\n",
       "\n",
       "    .dataframe tbody tr th {\n",
       "        vertical-align: top;\n",
       "    }\n",
       "\n",
       "    .dataframe thead th {\n",
       "        text-align: right;\n",
       "    }\n",
       "</style>\n",
       "<table border=\"1\" class=\"dataframe\">\n",
       "  <thead>\n",
       "    <tr style=\"text-align: right;\">\n",
       "      <th></th>\n",
       "      <th>survived</th>\n",
       "      <th>pclass</th>\n",
       "      <th>sex</th>\n",
       "      <th>age</th>\n",
       "      <th>sibsp</th>\n",
       "      <th>parch</th>\n",
       "      <th>fare</th>\n",
       "      <th>embarked</th>\n",
       "      <th>class</th>\n",
       "      <th>who</th>\n",
       "      <th>adult_male</th>\n",
       "      <th>deck</th>\n",
       "      <th>embark_town</th>\n",
       "      <th>alive</th>\n",
       "      <th>alone</th>\n",
       "    </tr>\n",
       "  </thead>\n",
       "  <tbody>\n",
       "    <tr>\n",
       "      <th>0</th>\n",
       "      <td>0</td>\n",
       "      <td>3</td>\n",
       "      <td>male</td>\n",
       "      <td>22.0</td>\n",
       "      <td>1</td>\n",
       "      <td>0</td>\n",
       "      <td>7.2500</td>\n",
       "      <td>S</td>\n",
       "      <td>Third</td>\n",
       "      <td>man</td>\n",
       "      <td>True</td>\n",
       "      <td>NaN</td>\n",
       "      <td>Southampton</td>\n",
       "      <td>no</td>\n",
       "      <td>False</td>\n",
       "    </tr>\n",
       "    <tr>\n",
       "      <th>1</th>\n",
       "      <td>1</td>\n",
       "      <td>1</td>\n",
       "      <td>female</td>\n",
       "      <td>38.0</td>\n",
       "      <td>1</td>\n",
       "      <td>0</td>\n",
       "      <td>71.2833</td>\n",
       "      <td>C</td>\n",
       "      <td>First</td>\n",
       "      <td>woman</td>\n",
       "      <td>False</td>\n",
       "      <td>C</td>\n",
       "      <td>Cherbourg</td>\n",
       "      <td>yes</td>\n",
       "      <td>False</td>\n",
       "    </tr>\n",
       "    <tr>\n",
       "      <th>2</th>\n",
       "      <td>1</td>\n",
       "      <td>3</td>\n",
       "      <td>female</td>\n",
       "      <td>26.0</td>\n",
       "      <td>0</td>\n",
       "      <td>0</td>\n",
       "      <td>7.9250</td>\n",
       "      <td>S</td>\n",
       "      <td>Third</td>\n",
       "      <td>woman</td>\n",
       "      <td>False</td>\n",
       "      <td>NaN</td>\n",
       "      <td>Southampton</td>\n",
       "      <td>yes</td>\n",
       "      <td>True</td>\n",
       "    </tr>\n",
       "    <tr>\n",
       "      <th>3</th>\n",
       "      <td>1</td>\n",
       "      <td>1</td>\n",
       "      <td>female</td>\n",
       "      <td>35.0</td>\n",
       "      <td>1</td>\n",
       "      <td>0</td>\n",
       "      <td>53.1000</td>\n",
       "      <td>S</td>\n",
       "      <td>First</td>\n",
       "      <td>woman</td>\n",
       "      <td>False</td>\n",
       "      <td>C</td>\n",
       "      <td>Southampton</td>\n",
       "      <td>yes</td>\n",
       "      <td>False</td>\n",
       "    </tr>\n",
       "    <tr>\n",
       "      <th>4</th>\n",
       "      <td>0</td>\n",
       "      <td>3</td>\n",
       "      <td>male</td>\n",
       "      <td>35.0</td>\n",
       "      <td>0</td>\n",
       "      <td>0</td>\n",
       "      <td>8.0500</td>\n",
       "      <td>S</td>\n",
       "      <td>Third</td>\n",
       "      <td>man</td>\n",
       "      <td>True</td>\n",
       "      <td>NaN</td>\n",
       "      <td>Southampton</td>\n",
       "      <td>no</td>\n",
       "      <td>True</td>\n",
       "    </tr>\n",
       "  </tbody>\n",
       "</table>\n",
       "</div>"
      ],
      "text/plain": [
       "   survived  pclass     sex   age  sibsp  parch     fare embarked  class  \\\n",
       "0         0       3    male  22.0      1      0   7.2500        S  Third   \n",
       "1         1       1  female  38.0      1      0  71.2833        C  First   \n",
       "2         1       3  female  26.0      0      0   7.9250        S  Third   \n",
       "3         1       1  female  35.0      1      0  53.1000        S  First   \n",
       "4         0       3    male  35.0      0      0   8.0500        S  Third   \n",
       "\n",
       "     who  adult_male deck  embark_town alive  alone  \n",
       "0    man        True  NaN  Southampton    no  False  \n",
       "1  woman       False    C    Cherbourg   yes  False  \n",
       "2  woman       False  NaN  Southampton   yes   True  \n",
       "3  woman       False    C  Southampton   yes  False  \n",
       "4    man        True  NaN  Southampton    no   True  "
      ]
     },
     "execution_count": 7,
     "metadata": {},
     "output_type": "execute_result"
    }
   ],
   "source": [
    "df.head()"
   ]
  },
  {
   "cell_type": "code",
   "execution_count": 8,
   "id": "5012c52e",
   "metadata": {},
   "outputs": [],
   "source": [
    "from pandas_visual_analysis import VisualAnalysis"
   ]
  },
  {
   "cell_type": "code",
   "execution_count": 9,
   "id": "45780597",
   "metadata": {},
   "outputs": [
    {
     "data": {
      "application/vnd.jupyter.widget-view+json": {
       "model_id": "2ba30157c51242bc9ff5f97015a34142",
       "version_major": 2,
       "version_minor": 0
      },
      "text/plain": [
       "VBox(children=(ToggleButtons(_dom_classes=('layout-f85e9139a1c84aac94c574408f4c13d5',), description='Selection…"
      ]
     },
     "metadata": {},
     "output_type": "display_data"
    }
   ],
   "source": [
    "VisualAnalysis(df)"
   ]
  },
  {
   "cell_type": "code",
   "execution_count": null,
   "id": "195df74d",
   "metadata": {},
   "outputs": [],
   "source": []
  },
  {
   "cell_type": "code",
   "execution_count": null,
   "id": "7b83442d",
   "metadata": {},
   "outputs": [],
   "source": []
  }
 ],
 "metadata": {
  "kernelspec": {
   "display_name": "Python 3 (ipykernel)",
   "language": "python",
   "name": "python3"
  },
  "language_info": {
   "codemirror_mode": {
    "name": "ipython",
    "version": 3
   },
   "file_extension": ".py",
   "mimetype": "text/x-python",
   "name": "python",
   "nbconvert_exporter": "python",
   "pygments_lexer": "ipython3",
   "version": "3.12.3"
  },
  "varInspector": {
   "cols": {
    "lenName": 16,
    "lenType": 16,
    "lenVar": 40
   },
   "kernels_config": {
    "python": {
     "delete_cmd_postfix": "",
     "delete_cmd_prefix": "del ",
     "library": "var_list.py",
     "varRefreshCmd": "print(var_dic_list())"
    },
    "r": {
     "delete_cmd_postfix": ") ",
     "delete_cmd_prefix": "rm(",
     "library": "var_list.r",
     "varRefreshCmd": "cat(var_dic_list()) "
    }
   },
   "types_to_exclude": [
    "module",
    "function",
    "builtin_function_or_method",
    "instance",
    "_Feature"
   ],
   "window_display": false
  }
 },
 "nbformat": 4,
 "nbformat_minor": 5
}
