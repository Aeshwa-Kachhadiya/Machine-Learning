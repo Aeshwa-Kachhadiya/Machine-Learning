{
 "cells": [
  {
   "cell_type": "code",
   "execution_count": 1,
   "id": "332eee69",
   "metadata": {},
   "outputs": [
    {
     "name": "stdout",
     "output_type": "stream",
     "text": [
      "Requirement already satisfied: dtale in c:\\users\\aeswa\\anaconda3\\lib\\site-packages (3.17.0)Note: you may need to restart the kernel to use updated packages.\n",
      "\n",
      "Requirement already satisfied: dash-daq<=0.5.0 in c:\\users\\aeswa\\anaconda3\\lib\\site-packages (from dtale) (0.5.0)\n",
      "Requirement already satisfied: future>=0.14.0 in c:\\users\\aeswa\\anaconda3\\lib\\site-packages (from dtale) (1.0.0)\n",
      "Requirement already satisfied: missingno in c:\\users\\aeswa\\anaconda3\\lib\\site-packages (from dtale) (0.5.2)\n",
      "Requirement already satisfied: pandas in c:\\users\\aeswa\\anaconda3\\lib\\site-packages (from dtale) (2.2.2)\n",
      "Requirement already satisfied: squarify in c:\\users\\aeswa\\anaconda3\\lib\\site-packages (from dtale) (0.4.4)\n",
      "Requirement already satisfied: strsimpy in c:\\users\\aeswa\\anaconda3\\lib\\site-packages (from dtale) (0.2.1)\n",
      "Requirement already satisfied: six in c:\\users\\aeswa\\anaconda3\\lib\\site-packages (from dtale) (1.16.0)\n",
      "Requirement already satisfied: xlrd in c:\\users\\aeswa\\anaconda3\\lib\\site-packages (from dtale) (2.0.2)\n",
      "Requirement already satisfied: beautifulsoup4!=4.13.0b2 in c:\\users\\aeswa\\anaconda3\\lib\\site-packages (from dtale) (4.12.3)\n",
      "Requirement already satisfied: certifi in c:\\users\\aeswa\\anaconda3\\lib\\site-packages (from dtale) (2025.4.26)\n",
      "Requirement already satisfied: dash-bootstrap-components<=1.7.1 in c:\\users\\aeswa\\anaconda3\\lib\\site-packages (from dtale) (1.7.1)\n",
      "Requirement already satisfied: lz4 in c:\\users\\aeswa\\anaconda3\\lib\\site-packages (from dtale) (4.3.2)\n",
      "Requirement already satisfied: cycler in c:\\users\\aeswa\\anaconda3\\lib\\site-packages (from dtale) (0.11.0)\n",
      "Requirement already satisfied: dash<=2.18.2 in c:\\users\\aeswa\\anaconda3\\lib\\site-packages (from dtale) (2.18.2)\n",
      "Requirement already satisfied: seaborn in c:\\users\\aeswa\\anaconda3\\lib\\site-packages (from dtale) (0.13.2)\n",
      "Requirement already satisfied: werkzeug in c:\\users\\aeswa\\anaconda3\\lib\\site-packages (from dtale) (3.0.3)\n",
      "Requirement already satisfied: Flask-Compress in c:\\users\\aeswa\\anaconda3\\lib\\site-packages (from dtale) (1.18)\n",
      "Requirement already satisfied: scikit-learn in c:\\users\\aeswa\\anaconda3\\lib\\site-packages (from dtale) (1.5.1)\n",
      "Requirement already satisfied: statsmodels in c:\\users\\aeswa\\anaconda3\\lib\\site-packages (from dtale) (0.14.2)\n",
      "Requirement already satisfied: networkx in c:\\users\\aeswa\\anaconda3\\lib\\site-packages (from dtale) (3.3)\n",
      "Requirement already satisfied: numpy in c:\\users\\aeswa\\anaconda3\\lib\\site-packages (from dtale) (1.26.4)\n",
      "Requirement already satisfied: openpyxl!=3.2.0b1 in c:\\users\\aeswa\\anaconda3\\lib\\site-packages (from dtale) (3.1.5)\n",
      "Requirement already satisfied: xarray in c:\\users\\aeswa\\anaconda3\\lib\\site-packages (from dtale) (2023.6.0)\n",
      "Requirement already satisfied: scipy!=1.12.0rc1,!=1.14.0,!=1.14.0rc1,!=1.14.0rc2 in c:\\users\\aeswa\\anaconda3\\lib\\site-packages (from dtale) (1.13.1)\n",
      "Requirement already satisfied: et-xmlfile in c:\\users\\aeswa\\anaconda3\\lib\\site-packages (from dtale) (1.1.0)\n",
      "Requirement already satisfied: plotly in c:\\users\\aeswa\\anaconda3\\lib\\site-packages (from dtale) (5.24.1)\n",
      "Requirement already satisfied: Flask in c:\\users\\aeswa\\anaconda3\\lib\\site-packages (from dtale) (3.0.3)\n",
      "Requirement already satisfied: itsdangerous in c:\\users\\aeswa\\anaconda3\\lib\\site-packages (from dtale) (2.2.0)\n",
      "Requirement already satisfied: requests in c:\\users\\aeswa\\anaconda3\\lib\\site-packages (from dtale) (2.32.3)\n",
      "Requirement already satisfied: kaleido in c:\\users\\aeswa\\anaconda3\\lib\\site-packages (from dtale) (1.0.0)\n",
      "Requirement already satisfied: matplotlib in c:\\users\\aeswa\\anaconda3\\lib\\site-packages (from dtale) (3.9.2)\n",
      "Requirement already satisfied: soupsieve>1.2 in c:\\users\\aeswa\\anaconda3\\lib\\site-packages (from beautifulsoup4!=4.13.0b2->dtale) (2.5)\n",
      "Requirement already satisfied: dash-html-components==2.0.0 in c:\\users\\aeswa\\anaconda3\\lib\\site-packages (from dash<=2.18.2->dtale) (2.0.0)\n",
      "Requirement already satisfied: dash-core-components==2.0.0 in c:\\users\\aeswa\\anaconda3\\lib\\site-packages (from dash<=2.18.2->dtale) (2.0.0)\n",
      "Requirement already satisfied: dash-table==5.0.0 in c:\\users\\aeswa\\anaconda3\\lib\\site-packages (from dash<=2.18.2->dtale) (5.0.0)\n",
      "Requirement already satisfied: importlib-metadata in c:\\users\\aeswa\\anaconda3\\lib\\site-packages (from dash<=2.18.2->dtale) (7.0.1)\n",
      "Requirement already satisfied: typing-extensions>=4.1.1 in c:\\users\\aeswa\\anaconda3\\lib\\site-packages (from dash<=2.18.2->dtale) (4.14.1)\n",
      "Requirement already satisfied: retrying in c:\\users\\aeswa\\anaconda3\\lib\\site-packages (from dash<=2.18.2->dtale) (1.4.0)\n",
      "Requirement already satisfied: nest-asyncio in c:\\users\\aeswa\\anaconda3\\lib\\site-packages (from dash<=2.18.2->dtale) (1.6.0)\n",
      "Requirement already satisfied: setuptools in c:\\users\\aeswa\\anaconda3\\lib\\site-packages (from dash<=2.18.2->dtale) (75.1.0)\n",
      "Requirement already satisfied: Jinja2>=3.1.2 in c:\\users\\aeswa\\anaconda3\\lib\\site-packages (from Flask->dtale) (3.1.4)\n",
      "Requirement already satisfied: click>=8.1.3 in c:\\users\\aeswa\\anaconda3\\lib\\site-packages (from Flask->dtale) (8.1.7)\n",
      "Requirement already satisfied: blinker>=1.6.2 in c:\\users\\aeswa\\anaconda3\\lib\\site-packages (from Flask->dtale) (1.6.2)\n",
      "Requirement already satisfied: tenacity>=6.2.0 in c:\\users\\aeswa\\anaconda3\\lib\\site-packages (from plotly->dtale) (8.2.3)\n",
      "Requirement already satisfied: packaging in c:\\users\\aeswa\\anaconda3\\lib\\site-packages (from plotly->dtale) (24.1)\n",
      "Requirement already satisfied: MarkupSafe>=2.1.1 in c:\\users\\aeswa\\anaconda3\\lib\\site-packages (from werkzeug->dtale) (2.1.3)\n",
      "Requirement already satisfied: brotli in c:\\users\\aeswa\\anaconda3\\lib\\site-packages (from Flask-Compress->dtale) (1.0.9)\n",
      "Requirement already satisfied: pyzstd in c:\\users\\aeswa\\anaconda3\\lib\\site-packages (from Flask-Compress->dtale) (0.17.0)\n",
      "Requirement already satisfied: choreographer>=1.0.5 in c:\\users\\aeswa\\anaconda3\\lib\\site-packages (from kaleido->dtale) (1.0.9)\n",
      "Requirement already satisfied: logistro>=1.0.8 in c:\\users\\aeswa\\anaconda3\\lib\\site-packages (from kaleido->dtale) (1.1.0)\n",
      "Requirement already satisfied: orjson>=3.10.15 in c:\\users\\aeswa\\anaconda3\\lib\\site-packages (from kaleido->dtale) (3.10.18)\n",
      "Requirement already satisfied: contourpy>=1.0.1 in c:\\users\\aeswa\\anaconda3\\lib\\site-packages (from matplotlib->dtale) (1.2.0)\n",
      "Requirement already satisfied: fonttools>=4.22.0 in c:\\users\\aeswa\\anaconda3\\lib\\site-packages (from matplotlib->dtale) (4.51.0)\n",
      "Requirement already satisfied: kiwisolver>=1.3.1 in c:\\users\\aeswa\\anaconda3\\lib\\site-packages (from matplotlib->dtale) (1.4.4)\n",
      "Requirement already satisfied: pillow>=8 in c:\\users\\aeswa\\anaconda3\\lib\\site-packages (from matplotlib->dtale) (10.4.0)\n",
      "Requirement already satisfied: pyparsing>=2.3.1 in c:\\users\\aeswa\\anaconda3\\lib\\site-packages (from matplotlib->dtale) (3.1.2)\n",
      "Requirement already satisfied: python-dateutil>=2.7 in c:\\users\\aeswa\\anaconda3\\lib\\site-packages (from matplotlib->dtale) (2.9.0.post0)\n",
      "Requirement already satisfied: pytz>=2020.1 in c:\\users\\aeswa\\anaconda3\\lib\\site-packages (from pandas->dtale) (2024.1)\n",
      "Requirement already satisfied: tzdata>=2022.7 in c:\\users\\aeswa\\anaconda3\\lib\\site-packages (from pandas->dtale) (2023.3)\n",
      "Requirement already satisfied: charset-normalizer<4,>=2 in c:\\users\\aeswa\\anaconda3\\lib\\site-packages (from requests->dtale) (3.3.2)\n",
      "Requirement already satisfied: idna<4,>=2.5 in c:\\users\\aeswa\\anaconda3\\lib\\site-packages (from requests->dtale) (3.7)\n",
      "Requirement already satisfied: urllib3<3,>=1.21.1 in c:\\users\\aeswa\\anaconda3\\lib\\site-packages (from requests->dtale) (2.2.3)\n",
      "Requirement already satisfied: joblib>=1.2.0 in c:\\users\\aeswa\\anaconda3\\lib\\site-packages (from scikit-learn->dtale) (1.4.2)\n",
      "Requirement already satisfied: threadpoolctl>=3.1.0 in c:\\users\\aeswa\\anaconda3\\lib\\site-packages (from scikit-learn->dtale) (3.5.0)\n",
      "Requirement already satisfied: patsy>=0.5.6 in c:\\users\\aeswa\\anaconda3\\lib\\site-packages (from statsmodels->dtale) (0.5.6)\n",
      "Requirement already satisfied: simplejson>=3.19.3 in c:\\users\\aeswa\\anaconda3\\lib\\site-packages (from choreographer>=1.0.5->kaleido->dtale) (3.20.1)\n",
      "Requirement already satisfied: colorama in c:\\users\\aeswa\\anaconda3\\lib\\site-packages (from click>=8.1.3->Flask->dtale) (0.4.6)\n",
      "Requirement already satisfied: zipp>=0.5 in c:\\users\\aeswa\\anaconda3\\lib\\site-packages (from importlib-metadata->dash<=2.18.2->dtale) (3.17.0)\n"
     ]
    }
   ],
   "source": [
    "%pip install dtale"
   ]
  },
  {
   "cell_type": "code",
   "execution_count": 2,
   "id": "7e50efa5",
   "metadata": {},
   "outputs": [],
   "source": [
    "import seaborn as sns"
   ]
  },
  {
   "cell_type": "code",
   "execution_count": 3,
   "id": "4dea607a",
   "metadata": {},
   "outputs": [
    {
     "name": "stdout",
     "output_type": "stream",
     "text": [
      "['anagrams', 'anscombe', 'attention', 'brain_networks', 'car_crashes', 'diamonds', 'dots', 'dowjones', 'exercise', 'flights', 'fmri', 'geyser', 'glue', 'healthexp', 'iris', 'mpg', 'penguins', 'planets', 'seaice', 'taxis', 'tips', 'titanic']\n"
     ]
    }
   ],
   "source": [
    "print(sns.get_dataset_names())"
   ]
  },
  {
   "cell_type": "code",
   "execution_count": 4,
   "id": "2497fc59",
   "metadata": {},
   "outputs": [],
   "source": [
    "df=sns.load_dataset(\"planets\")"
   ]
  },
  {
   "cell_type": "code",
   "execution_count": 5,
   "id": "493b8e0c",
   "metadata": {},
   "outputs": [
    {
     "data": {
      "text/html": [
       "<div>\n",
       "<style scoped>\n",
       "    .dataframe tbody tr th:only-of-type {\n",
       "        vertical-align: middle;\n",
       "    }\n",
       "\n",
       "    .dataframe tbody tr th {\n",
       "        vertical-align: top;\n",
       "    }\n",
       "\n",
       "    .dataframe thead th {\n",
       "        text-align: right;\n",
       "    }\n",
       "</style>\n",
       "<table border=\"1\" class=\"dataframe\">\n",
       "  <thead>\n",
       "    <tr style=\"text-align: right;\">\n",
       "      <th></th>\n",
       "      <th>method</th>\n",
       "      <th>number</th>\n",
       "      <th>orbital_period</th>\n",
       "      <th>mass</th>\n",
       "      <th>distance</th>\n",
       "      <th>year</th>\n",
       "    </tr>\n",
       "  </thead>\n",
       "  <tbody>\n",
       "    <tr>\n",
       "      <th>0</th>\n",
       "      <td>Radial Velocity</td>\n",
       "      <td>1</td>\n",
       "      <td>269.300</td>\n",
       "      <td>7.10</td>\n",
       "      <td>77.40</td>\n",
       "      <td>2006</td>\n",
       "    </tr>\n",
       "    <tr>\n",
       "      <th>1</th>\n",
       "      <td>Radial Velocity</td>\n",
       "      <td>1</td>\n",
       "      <td>874.774</td>\n",
       "      <td>2.21</td>\n",
       "      <td>56.95</td>\n",
       "      <td>2008</td>\n",
       "    </tr>\n",
       "    <tr>\n",
       "      <th>2</th>\n",
       "      <td>Radial Velocity</td>\n",
       "      <td>1</td>\n",
       "      <td>763.000</td>\n",
       "      <td>2.60</td>\n",
       "      <td>19.84</td>\n",
       "      <td>2011</td>\n",
       "    </tr>\n",
       "    <tr>\n",
       "      <th>3</th>\n",
       "      <td>Radial Velocity</td>\n",
       "      <td>1</td>\n",
       "      <td>326.030</td>\n",
       "      <td>19.40</td>\n",
       "      <td>110.62</td>\n",
       "      <td>2007</td>\n",
       "    </tr>\n",
       "    <tr>\n",
       "      <th>4</th>\n",
       "      <td>Radial Velocity</td>\n",
       "      <td>1</td>\n",
       "      <td>516.220</td>\n",
       "      <td>10.50</td>\n",
       "      <td>119.47</td>\n",
       "      <td>2009</td>\n",
       "    </tr>\n",
       "  </tbody>\n",
       "</table>\n",
       "</div>"
      ],
      "text/plain": [
       "            method  number  orbital_period   mass  distance  year\n",
       "0  Radial Velocity       1         269.300   7.10     77.40  2006\n",
       "1  Radial Velocity       1         874.774   2.21     56.95  2008\n",
       "2  Radial Velocity       1         763.000   2.60     19.84  2011\n",
       "3  Radial Velocity       1         326.030  19.40    110.62  2007\n",
       "4  Radial Velocity       1         516.220  10.50    119.47  2009"
      ]
     },
     "execution_count": 5,
     "metadata": {},
     "output_type": "execute_result"
    }
   ],
   "source": [
    "df.head()"
   ]
  },
  {
   "cell_type": "code",
   "execution_count": 6,
   "id": "4f730a25",
   "metadata": {},
   "outputs": [
    {
     "name": "stderr",
     "output_type": "stream",
     "text": [
      "C:\\Users\\aeswa\\anaconda3\\Lib\\site-packages\\kaleido\\__init__.py:14: UserWarning:\n",
      "\n",
      "\n",
      "\n",
      "Warning: You have Plotly version 5.24.1, which is not compatible with this version of Kaleido (1.0.0).\n",
      "\n",
      "This means that static image generation (e.g. `fig.write_image()`) will not work.\n",
      "\n",
      "Please upgrade Plotly to version 6.1.1 or greater, or downgrade Kaleido to version 0.2.1.\n",
      "\n",
      "\n"
     ]
    }
   ],
   "source": [
    "import dtale"
   ]
  },
  {
   "cell_type": "code",
   "execution_count": 7,
   "id": "9cc16f08",
   "metadata": {},
   "outputs": [
    {
     "data": {
      "text/html": [
       "\n",
       "        <iframe\n",
       "            width=\"100%\"\n",
       "            height=\"475\"\n",
       "            src=\"http://LAPTOP-KTQFB5UG:40000/dtale/iframe/1\"\n",
       "            frameborder=\"0\"\n",
       "            allowfullscreen\n",
       "            \n",
       "        ></iframe>\n",
       "        "
      ],
      "text/plain": [
       "<IPython.lib.display.IFrame at 0x266f900d010>"
      ]
     },
     "metadata": {},
     "output_type": "display_data"
    },
    {
     "data": {
      "text/plain": []
     },
     "execution_count": 7,
     "metadata": {},
     "output_type": "execute_result"
    }
   ],
   "source": [
    "dtale.show(df)"
   ]
  },
  {
   "cell_type": "code",
   "execution_count": null,
   "id": "f80ae76e",
   "metadata": {},
   "outputs": [],
   "source": []
  }
 ],
 "metadata": {
  "kernelspec": {
   "display_name": "Python 3 (ipykernel)",
   "language": "python",
   "name": "python3"
  },
  "language_info": {
   "codemirror_mode": {
    "name": "ipython",
    "version": 3
   },
   "file_extension": ".py",
   "mimetype": "text/x-python",
   "name": "python",
   "nbconvert_exporter": "python",
   "pygments_lexer": "ipython3",
   "version": "3.12.3"
  },
  "varInspector": {
   "cols": {
    "lenName": 16,
    "lenType": 16,
    "lenVar": 40
   },
   "kernels_config": {
    "python": {
     "delete_cmd_postfix": "",
     "delete_cmd_prefix": "del ",
     "library": "var_list.py",
     "varRefreshCmd": "print(var_dic_list())"
    },
    "r": {
     "delete_cmd_postfix": ") ",
     "delete_cmd_prefix": "rm(",
     "library": "var_list.r",
     "varRefreshCmd": "cat(var_dic_list()) "
    }
   },
   "types_to_exclude": [
    "module",
    "function",
    "builtin_function_or_method",
    "instance",
    "_Feature"
   ],
   "window_display": false
  }
 },
 "nbformat": 4,
 "nbformat_minor": 5
}
