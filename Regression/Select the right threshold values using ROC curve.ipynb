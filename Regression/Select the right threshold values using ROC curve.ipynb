{
 "cells": [
  {
   "cell_type": "code",
   "execution_count": 2,
   "id": "f884bdac",
   "metadata": {},
   "outputs": [],
   "source": [
    "import pandas as pd\n",
    "import numpy as np\n",
    "import matplotlib.pyplot as plt\n",
    "import seaborn as sns\n",
    "from sklearn.datasets import make_classification"
   ]
  },
  {
   "cell_type": "code",
   "execution_count": 4,
   "id": "57734ada",
   "metadata": {},
   "outputs": [],
   "source": [
    "from sklearn.model_selection import train_test_split\n",
    "X,y=make_classification(n_samples=2000,n_classes=2,weights=[1,1],random_state=42)"
   ]
  },
  {
   "cell_type": "code",
   "execution_count": 6,
   "id": "bd44e7c5",
   "metadata": {},
   "outputs": [
    {
     "data": {
      "text/plain": [
       "(2000, 20)"
      ]
     },
     "execution_count": 6,
     "metadata": {},
     "output_type": "execute_result"
    }
   ],
   "source": [
    "X.shape"
   ]
  },
  {
   "cell_type": "code",
   "execution_count": 8,
   "id": "327a6695",
   "metadata": {},
   "outputs": [
    {
     "data": {
      "text/plain": [
       "array([0, 1, 1, ..., 0, 0, 0])"
      ]
     },
     "execution_count": 8,
     "metadata": {},
     "output_type": "execute_result"
    }
   ],
   "source": [
    "y"
   ]
  },
  {
   "cell_type": "code",
   "execution_count": 10,
   "id": "13bef0c0",
   "metadata": {},
   "outputs": [],
   "source": [
    "X_train, X_test, y_train, y_test=train_test_split(X, y, test_size=0.3, random_state=42)"
   ]
  },
  {
   "cell_type": "code",
   "execution_count": 12,
   "id": "dbcd8213",
   "metadata": {},
   "outputs": [],
   "source": [
    "from sklearn.metrics import roc_curve, roc_auc_score"
   ]
  },
  {
   "cell_type": "markdown",
   "id": "d1782237",
   "metadata": {},
   "source": [
    "# Random Forest"
   ]
  },
  {
   "cell_type": "code",
   "execution_count": 19,
   "id": "b2a86d71",
   "metadata": {},
   "outputs": [
    {
     "name": "stdout",
     "output_type": "stream",
     "text": [
      "RF train roc auc:1.0\n",
      "RF train roc auc:0.9882410583047526\n"
     ]
    }
   ],
   "source": [
    "# Apply random forest classifier\n",
    "from sklearn.ensemble import RandomForestClassifier\n",
    "rf_model=RandomForestClassifier()\n",
    "rf_model.fit(X_train, y_train)\n",
    "y_train_pred=rf_model.predict_proba(X_train)\n",
    "print(\"RF train roc auc:{}\".format(roc_auc_score(y_train,y_train_pred[:,1] ))) #2 probabilities 0 and 1: here 0=1st column and 1=second column\n",
    "y_test_pred=rf_model.predict_proba(X_test)\n",
    "print(\"RF train roc auc:{}\".format(roc_auc_score(y_test,y_test_pred[:,1] )))"
   ]
  },
  {
   "cell_type": "markdown",
   "id": "c12a6771",
   "metadata": {},
   "source": [
    "# Logistic Regression"
   ]
  },
  {
   "cell_type": "code",
   "execution_count": 21,
   "id": "c626c9bf",
   "metadata": {},
   "outputs": [
    {
     "name": "stdout",
     "output_type": "stream",
     "text": [
      "RF train roc auc:0.9725701313310101\n",
      "RF train roc auc:0.9792436862500556\n"
     ]
    }
   ],
   "source": [
    "from sklearn.linear_model import LogisticRegression\n",
    "lr_model=LogisticRegression()\n",
    "lr_model.fit(X_train, y_train)\n",
    "y_train_pred=lr_model.predict_proba(X_train)\n",
    "print(\"RF train roc auc:{}\".format(roc_auc_score(y_train,y_train_pred[:,1] ))) #2 probabilities 0 and 1: here 0=1st column and 1=second column\n",
    "y_test_pred=lr_model.predict_proba(X_test)\n",
    "print(\"RF train roc auc:{}\".format(roc_auc_score(y_test,y_test_pred[:,1] )))"
   ]
  },
  {
   "cell_type": "markdown",
   "id": "004afdb6",
   "metadata": {},
   "source": [
    "# Adaboost classifier"
   ]
  },
  {
   "cell_type": "code",
   "execution_count": 24,
   "id": "02e4bb8a",
   "metadata": {},
   "outputs": [
    {
     "name": "stderr",
     "output_type": "stream",
     "text": [
      "C:\\Users\\aeswa\\anaconda3\\Lib\\site-packages\\sklearn\\ensemble\\_weight_boosting.py:527: FutureWarning: The SAMME.R algorithm (the default) is deprecated and will be removed in 1.6. Use the SAMME algorithm to circumvent this warning.\n",
      "  warnings.warn(\n"
     ]
    },
    {
     "name": "stdout",
     "output_type": "stream",
     "text": [
      "RF train roc auc:0.9969009719678827\n",
      "RF train roc auc:0.985613113001648\n"
     ]
    }
   ],
   "source": [
    "from sklearn.ensemble import AdaBoostClassifier\n",
    "ab_model=AdaBoostClassifier()\n",
    "ab_model.fit(X_train, y_train)\n",
    "y_train_pred=ab_model.predict_proba(X_train)\n",
    "print(\"RF train roc auc:{}\".format(roc_auc_score(y_train,y_train_pred[:,1] ))) #2 probabilities 0 and 1: here 0=1st column and 1=second column\n",
    "y_test_pred=ab_model.predict_proba(X_test)\n",
    "print(\"RF train roc auc:{}\".format(roc_auc_score(y_test,y_test_pred[:,1] )))"
   ]
  },
  {
   "cell_type": "markdown",
   "id": "4a201314",
   "metadata": {},
   "source": [
    "# knn classifier"
   ]
  },
  {
   "cell_type": "code",
   "execution_count": 27,
   "id": "d33a9036",
   "metadata": {},
   "outputs": [
    {
     "name": "stderr",
     "output_type": "stream",
     "text": [
      "C:\\Users\\aeswa\\anaconda3\\Lib\\site-packages\\sklearn\\ensemble\\_weight_boosting.py:527: FutureWarning: The SAMME.R algorithm (the default) is deprecated and will be removed in 1.6. Use the SAMME algorithm to circumvent this warning.\n",
      "  warnings.warn(\n"
     ]
    },
    {
     "name": "stdout",
     "output_type": "stream",
     "text": [
      "RF train roc auc:0.9969009719678827\n",
      "RF train roc auc:0.985613113001648\n"
     ]
    }
   ],
   "source": [
    "from sklearn.neighbors import KNeighborsClassifier\n",
    "knn_model=AdaBoostClassifier()\n",
    "knn_model.fit(X_train, y_train)\n",
    "y_train_pred=knn_model.predict_proba(X_train)\n",
    "print(\"RF train roc auc:{}\".format(roc_auc_score(y_train,y_train_pred[:,1] ))) #2 probabilities 0 and 1: here 0=1st column and 1=second column\n",
    "y_test_pred=knn_model.predict_proba(X_test)\n",
    "print(\"RF train roc auc:{}\".format(roc_auc_score(y_test,y_test_pred[:,1] )))"
   ]
  },
  {
   "cell_type": "markdown",
   "id": "bd8ee2eb",
   "metadata": {},
   "source": [
    "## focus on selecting the best threshold for maximum accuracy"
   ]
  },
  {
   "cell_type": "code",
   "execution_count": 30,
   "id": "17db566b",
   "metadata": {},
   "outputs": [
    {
     "name": "stdout",
     "output_type": "stream",
     "text": [
      "Ensemble test roc-auc: 0.9894214066188588\n"
     ]
    }
   ],
   "source": [
    "pred=[]\n",
    "for model in [rf_model,lr_model,ab_model,knn_model]:\n",
    "    pred.append(pd.Series(model.predict_proba(X_test)[:,1]))\n",
    "final_prediction = pd.concat(pred,axis=1).mean(axis=1)\n",
    "print(\"Ensemble test roc-auc: {}\".format(roc_auc_score(y_test,final_prediction)))"
   ]
  },
  {
   "cell_type": "code",
   "execution_count": 32,
   "id": "69196e44",
   "metadata": {},
   "outputs": [
    {
     "data": {
      "text/html": [
       "<div>\n",
       "<style scoped>\n",
       "    .dataframe tbody tr th:only-of-type {\n",
       "        vertical-align: middle;\n",
       "    }\n",
       "\n",
       "    .dataframe tbody tr th {\n",
       "        vertical-align: top;\n",
       "    }\n",
       "\n",
       "    .dataframe thead th {\n",
       "        text-align: right;\n",
       "    }\n",
       "</style>\n",
       "<table border=\"1\" class=\"dataframe\">\n",
       "  <thead>\n",
       "    <tr style=\"text-align: right;\">\n",
       "      <th></th>\n",
       "      <th>0</th>\n",
       "      <th>1</th>\n",
       "      <th>2</th>\n",
       "      <th>3</th>\n",
       "    </tr>\n",
       "  </thead>\n",
       "  <tbody>\n",
       "    <tr>\n",
       "      <th>0</th>\n",
       "      <td>0.00</td>\n",
       "      <td>0.000085</td>\n",
       "      <td>0.296685</td>\n",
       "      <td>0.296685</td>\n",
       "    </tr>\n",
       "    <tr>\n",
       "      <th>1</th>\n",
       "      <td>0.96</td>\n",
       "      <td>0.999906</td>\n",
       "      <td>0.671976</td>\n",
       "      <td>0.671976</td>\n",
       "    </tr>\n",
       "    <tr>\n",
       "      <th>2</th>\n",
       "      <td>0.03</td>\n",
       "      <td>0.012118</td>\n",
       "      <td>0.462498</td>\n",
       "      <td>0.462498</td>\n",
       "    </tr>\n",
       "    <tr>\n",
       "      <th>3</th>\n",
       "      <td>0.23</td>\n",
       "      <td>0.724836</td>\n",
       "      <td>0.507158</td>\n",
       "      <td>0.507158</td>\n",
       "    </tr>\n",
       "    <tr>\n",
       "      <th>4</th>\n",
       "      <td>0.97</td>\n",
       "      <td>0.942548</td>\n",
       "      <td>0.532014</td>\n",
       "      <td>0.532014</td>\n",
       "    </tr>\n",
       "    <tr>\n",
       "      <th>...</th>\n",
       "      <td>...</td>\n",
       "      <td>...</td>\n",
       "      <td>...</td>\n",
       "      <td>...</td>\n",
       "    </tr>\n",
       "    <tr>\n",
       "      <th>595</th>\n",
       "      <td>0.93</td>\n",
       "      <td>0.701840</td>\n",
       "      <td>0.528289</td>\n",
       "      <td>0.528289</td>\n",
       "    </tr>\n",
       "    <tr>\n",
       "      <th>596</th>\n",
       "      <td>0.00</td>\n",
       "      <td>0.001898</td>\n",
       "      <td>0.300322</td>\n",
       "      <td>0.300322</td>\n",
       "    </tr>\n",
       "    <tr>\n",
       "      <th>597</th>\n",
       "      <td>0.04</td>\n",
       "      <td>0.087104</td>\n",
       "      <td>0.465746</td>\n",
       "      <td>0.465746</td>\n",
       "    </tr>\n",
       "    <tr>\n",
       "      <th>598</th>\n",
       "      <td>0.04</td>\n",
       "      <td>0.084019</td>\n",
       "      <td>0.445858</td>\n",
       "      <td>0.445858</td>\n",
       "    </tr>\n",
       "    <tr>\n",
       "      <th>599</th>\n",
       "      <td>0.93</td>\n",
       "      <td>0.862511</td>\n",
       "      <td>0.518426</td>\n",
       "      <td>0.518426</td>\n",
       "    </tr>\n",
       "  </tbody>\n",
       "</table>\n",
       "<p>600 rows × 4 columns</p>\n",
       "</div>"
      ],
      "text/plain": [
       "        0         1         2         3\n",
       "0    0.00  0.000085  0.296685  0.296685\n",
       "1    0.96  0.999906  0.671976  0.671976\n",
       "2    0.03  0.012118  0.462498  0.462498\n",
       "3    0.23  0.724836  0.507158  0.507158\n",
       "4    0.97  0.942548  0.532014  0.532014\n",
       "..    ...       ...       ...       ...\n",
       "595  0.93  0.701840  0.528289  0.528289\n",
       "596  0.00  0.001898  0.300322  0.300322\n",
       "597  0.04  0.087104  0.465746  0.465746\n",
       "598  0.04  0.084019  0.445858  0.445858\n",
       "599  0.93  0.862511  0.518426  0.518426\n",
       "\n",
       "[600 rows x 4 columns]"
      ]
     },
     "execution_count": 32,
     "metadata": {},
     "output_type": "execute_result"
    }
   ],
   "source": [
    "pd.concat(pred,axis=1)"
   ]
  },
  {
   "cell_type": "code",
   "execution_count": 34,
   "id": "318561b1",
   "metadata": {},
   "outputs": [
    {
     "data": {
      "text/plain": [
       "0      0.148364\n",
       "1      0.825964\n",
       "2      0.241778\n",
       "3      0.492288\n",
       "4      0.744144\n",
       "         ...   \n",
       "595    0.672104\n",
       "596    0.150636\n",
       "597    0.264649\n",
       "598    0.253934\n",
       "599    0.707341\n",
       "Length: 600, dtype: float64"
      ]
     },
     "execution_count": 34,
     "metadata": {},
     "output_type": "execute_result"
    }
   ],
   "source": [
    "final_prediction"
   ]
  },
  {
   "cell_type": "code",
   "execution_count": 36,
   "id": "2f9ce60e",
   "metadata": {},
   "outputs": [
    {
     "data": {
      "text/plain": [
       "array([       inf, 0.8457356 , 0.74365796, 0.74342229, 0.72579919,\n",
       "       0.7245911 , 0.72167946, 0.71956472, 0.71175792, 0.7117124 ,\n",
       "       0.6517302 , 0.65124612, 0.64405387, 0.6294988 , 0.62911804,\n",
       "       0.62082063, 0.58009697, 0.57284546, 0.55231496, 0.5505204 ,\n",
       "       0.50611065, 0.50534734, 0.49528626, 0.49228781, 0.49046681,\n",
       "       0.45196025, 0.4479472 , 0.42873786, 0.42565077, 0.42273531,\n",
       "       0.41983611, 0.41175455, 0.39822096, 0.38944742, 0.38540129,\n",
       "       0.34886702, 0.34749987, 0.29282343, 0.29123733, 0.25602047,\n",
       "       0.25600522, 0.23175474, 0.23164026, 0.13707706])"
      ]
     },
     "execution_count": 36,
     "metadata": {},
     "output_type": "execute_result"
    }
   ],
   "source": [
    "#Calculate the roc curve\n",
    "\n",
    "fpr,tpr, threshold=roc_curve(y_test, final_prediction)\n",
    "threshold"
   ]
  },
  {
   "cell_type": "code",
   "execution_count": 40,
   "id": "c0ce81b6",
   "metadata": {},
   "outputs": [
    {
     "data": {
      "text/html": [
       "<div>\n",
       "<style scoped>\n",
       "    .dataframe tbody tr th:only-of-type {\n",
       "        vertical-align: middle;\n",
       "    }\n",
       "\n",
       "    .dataframe tbody tr th {\n",
       "        vertical-align: top;\n",
       "    }\n",
       "\n",
       "    .dataframe thead th {\n",
       "        text-align: right;\n",
       "    }\n",
       "</style>\n",
       "<table border=\"1\" class=\"dataframe\">\n",
       "  <thead>\n",
       "    <tr style=\"text-align: right;\">\n",
       "      <th></th>\n",
       "      <th>Thresold</th>\n",
       "      <th>accuracy</th>\n",
       "    </tr>\n",
       "  </thead>\n",
       "  <tbody>\n",
       "    <tr>\n",
       "      <th>26</th>\n",
       "      <td>0.447947</td>\n",
       "      <td>0.960000</td>\n",
       "    </tr>\n",
       "    <tr>\n",
       "      <th>23</th>\n",
       "      <td>0.492288</td>\n",
       "      <td>0.960000</td>\n",
       "    </tr>\n",
       "    <tr>\n",
       "      <th>21</th>\n",
       "      <td>0.505347</td>\n",
       "      <td>0.960000</td>\n",
       "    </tr>\n",
       "    <tr>\n",
       "      <th>22</th>\n",
       "      <td>0.495286</td>\n",
       "      <td>0.958333</td>\n",
       "    </tr>\n",
       "    <tr>\n",
       "      <th>18</th>\n",
       "      <td>0.552315</td>\n",
       "      <td>0.958333</td>\n",
       "    </tr>\n",
       "  </tbody>\n",
       "</table>\n",
       "</div>"
      ],
      "text/plain": [
       "    Thresold  accuracy\n",
       "26  0.447947  0.960000\n",
       "23  0.492288  0.960000\n",
       "21  0.505347  0.960000\n",
       "22  0.495286  0.958333\n",
       "18  0.552315  0.958333"
      ]
     },
     "execution_count": 40,
     "metadata": {},
     "output_type": "execute_result"
    }
   ],
   "source": [
    "from sklearn.metrics import accuracy_score\n",
    "acc=[]\n",
    "for thres in threshold:\n",
    "    y_pred=np.where(final_prediction>thres,1,0)\n",
    "    acc.append(accuracy_score(y_test, y_pred, normalize=True))\n",
    "    \n",
    "acc=pd.concat([pd.Series(threshold), pd.Series(acc)], axis=1)\n",
    "acc.columns=[\"Thresold\",\"accuracy\"]\n",
    "acc.sort_values(by=\"accuracy\",ascending=False, inplace=True)\n",
    "acc.head()"
   ]
  },
  {
   "cell_type": "code",
   "execution_count": 48,
   "id": "135f6426",
   "metadata": {},
   "outputs": [],
   "source": [
    "def plot_roc_auc(fpr,tpr):\n",
    "    plt.plot(fpr,tpr,color=\"orange\",label=\"ROC\")\n",
    "    plt.plot([0,1],[0,1], color=\"darkblue\",linestyle=\"--\")\n",
    "    plt.xlabel(\"False positive rate\")\n",
    "    plt.ylabel(\"True positive rate\")\n",
    "    plt.title(\"Receiver operating characteristic (ROC) curve\")\n",
    "    plt.legend()\n",
    "    plt.show()"
   ]
  },
  {
   "cell_type": "code",
   "execution_count": 49,
   "id": "d970fc1c",
   "metadata": {},
   "outputs": [
    {
     "data": {
      "image/png": "[encoded data removed]",
      "text/plain": [
       "<Figure size 640x480 with 1 Axes>"
      ]
     },
     "metadata": {},
     "output_type": "display_data"
    }
   ],
   "source": [
    "plot_roc_auc(fpr,tpr)"
   ]
  }
 ],
 "metadata": {
  "kernelspec": {
   "display_name": "Python 3 (ipykernel)",
   "language": "python",
   "name": "python3"
  },
  "language_info": {
   "codemirror_mode": {
    "name": "ipython",
    "version": 3
   },
   "file_extension": ".py",
   "mimetype": "text/x-python",
   "name": "python",
   "nbconvert_exporter": "python",
   "pygments_lexer": "ipython3",
   "version": "3.12.3"
  },
  "varInspector": {
   "cols": {
    "lenName": 16,
    "lenType": 16,
    "lenVar": 40
   },
   "kernels_config": {
    "python": {
     "delete_cmd_postfix": "",
     "delete_cmd_prefix": "del ",
     "library": "var_list.py",
     "varRefreshCmd": "print(var_dic_list())"
    },
    "r": {
     "delete_cmd_postfix": ") ",
     "delete_cmd_prefix": "rm(",
     "library": "var_list.r",
     "varRefreshCmd": "cat(var_dic_list()) "
    }
   },
   "types_to_exclude": [
    "module",
    "function",
    "builtin_function_or_method",
    "instance",
    "_Feature"
   ],
   "window_display": false
  }
 },
 "nbformat": 4,
 "nbformat_minor": 5
}
